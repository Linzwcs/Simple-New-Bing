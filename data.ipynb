{
 "cells": [
  {
   "cell_type": "code",
   "execution_count": 27,
   "metadata": {},
   "outputs": [],
   "source": [
    "import json\n",
    "import random"
   ]
  },
  {
   "cell_type": "code",
   "execution_count": 28,
   "metadata": {},
   "outputs": [],
   "source": [
    "with open('./data/source_BIO_2014_cropus.txt','r') as f:\n",
    "    texts=f.read()\n",
    "\n",
    "with open('./data/target_BIO_2014_cropus.txt','r') as f:\n",
    "    targets=f.read()"
   ]
  },
  {
   "cell_type": "code",
   "execution_count": 29,
   "metadata": {},
   "outputs": [],
   "source": [
    "texts,targets=texts.split(\"\\n\"),targets.split(\"\\n\")"
   ]
  },
  {
   "cell_type": "code",
   "execution_count": 37,
   "metadata": {},
   "outputs": [],
   "source": [
    "sample_id,data=0,[]\n",
    "labels=set()\n",
    "for text,target in zip(texts,targets):\n",
    "    text,target=text.strip().split(\" \"),target.strip().split(\" \")\n",
    "    flag,start,end,current_label=0,0,0,\"\"\n",
    "    assert(len(text)==len(target))\n",
    "    annotations=[]\n",
    "    try:\n",
    "        for i,label in enumerate(target):\n",
    "            \n",
    "            if label[0]==\"B\":\n",
    "                if flag==0:\n",
    "                    pass\n",
    "                elif flag==1:\n",
    "                    annotations.append({\n",
    "                        \"start\":start,\n",
    "                        \"end\":i,\n",
    "                        \"type\":current_label\n",
    "                    })\n",
    "                start,end,current_label,flag=i,i,label[2:],1\n",
    "            elif label[0]==\"I\":\n",
    "                pass          \n",
    "            elif label[0]==\"O\":\n",
    "                if flag==0:\n",
    "                    pass\n",
    "                elif flag==1:\n",
    "                    annotations.append({\n",
    "                        \"start\":start,\n",
    "                        \"end\":i,\n",
    "                        \"type\":current_label\n",
    "                    })\n",
    "                flag=0\n",
    "        data.append({\n",
    "            \"sample_id\":sample_id,\n",
    "            \"text\":\"\".join(text),\n",
    "            \"annotations\":annotations\n",
    "        })\n",
    "    except:\n",
    "        continue            \n"
   ]
  },
  {
   "cell_type": "code",
   "execution_count": 31,
   "metadata": {},
   "outputs": [],
   "source": [
    "random.shuffle(data)"
   ]
  },
  {
   "cell_type": "code",
   "execution_count": 34,
   "metadata": {},
   "outputs": [],
   "source": [
    "with open('./data/train.json','w') as f:\n",
    "    json.dump(data[:int(len(data)*0.7)],f,ensure_ascii=False,indent=4)"
   ]
  },
  {
   "cell_type": "code",
   "execution_count": 35,
   "metadata": {},
   "outputs": [],
   "source": [
    "with open('./data/test.json','w') as f:\n",
    "    json.dump(data[int(len(data)*0.7):],f,ensure_ascii=False,indent=4)"
   ]
  },
  {
   "cell_type": "code",
   "execution_count": 36,
   "metadata": {},
   "outputs": [],
   "source": []
  },
  {
   "cell_type": "code",
   "execution_count": 39,
   "metadata": {},
   "outputs": [],
   "source": []
  },
  {
   "cell_type": "code",
   "execution_count": 40,
   "metadata": {},
   "outputs": [
    {
     "data": {
      "text/plain": [
       "{'B_LOC', 'B_ORG', 'B_PER', 'B_T', 'I_LOC', 'I_ORG', 'I_PER', 'I_T', 'O'}"
      ]
     },
     "execution_count": 40,
     "metadata": {},
     "output_type": "execute_result"
    }
   ],
   "source": []
  },
  {
   "cell_type": "code",
   "execution_count": null,
   "metadata": {},
   "outputs": [],
   "source": []
  }
 ],
 "metadata": {
  "kernelspec": {
   "display_name": "openai",
   "language": "python",
   "name": "python3"
  },
  "language_info": {
   "codemirror_mode": {
    "name": "ipython",
    "version": 3
   },
   "file_extension": ".py",
   "mimetype": "text/x-python",
   "name": "python",
   "nbconvert_exporter": "python",
   "pygments_lexer": "ipython3",
   "version": "3.11.3"
  },
  "orig_nbformat": 4
 },
 "nbformat": 4,
 "nbformat_minor": 2
}
