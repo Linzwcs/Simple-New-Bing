{
 "cells": [
  {
   "cell_type": "code",
   "execution_count": 1,
   "metadata": {},
   "outputs": [
    {
     "name": "stderr",
     "output_type": "stream",
     "text": [
      "c:\\Users\\18528\\anaconda3\\envs\\openai\\Lib\\site-packages\\tqdm\\auto.py:21: TqdmWarning: IProgress not found. Please update jupyter and ipywidgets. See https://ipywidgets.readthedocs.io/en/stable/user_install.html\n",
      "  from .autonotebook import tqdm as notebook_tqdm\n"
     ]
    }
   ],
   "source": [
    "import json\n",
    "from transformers import AutoTokenizer,AutoModel\n",
    "from torchmetrics import Accuracy\n",
    "from torch import nn\n",
    "from torch.utils.data import DataLoader\n",
    "from model import BertBilstm\n",
    "import torch\n",
    "from utils import evaluate_recall,evaluate_f1,evaluate_precision,train_model,generate_collate_fn\n",
    "from torchmetrics import Precision, Recall, F1Score"
   ]
  },
  {
   "cell_type": "code",
   "execution_count": 2,
   "metadata": {},
   "outputs": [
    {
     "name": "stderr",
     "output_type": "stream",
     "text": [
      "Some weights of the model checkpoint at bert-base-chinese were not used when initializing BertModel: ['cls.predictions.transform.dense.weight', 'cls.predictions.bias', 'cls.predictions.transform.dense.bias', 'cls.seq_relationship.bias', 'cls.predictions.transform.LayerNorm.bias', 'cls.predictions.transform.LayerNorm.weight', 'cls.seq_relationship.weight']\n",
      "- This IS expected if you are initializing BertModel from the checkpoint of a model trained on another task or with another architecture (e.g. initializing a BertForSequenceClassification model from a BertForPreTraining model).\n",
      "- This IS NOT expected if you are initializing BertModel from the checkpoint of a model that you expect to be exactly identical (initializing a BertForSequenceClassification model from a BertForSequenceClassification model).\n"
     ]
    }
   ],
   "source": [
    "with open('./data/train.json','r') as f:\n",
    "    train_data=json.load(f)\n",
    "with open('./data/test.json','r') as f:\n",
    "    test_data=json.load(f)\n",
    "with open('./data/label2index.json','r') as f:\n",
    "    label2index=json.load(f)\n",
    "\n",
    "precision = Precision(task=\"multiclass\",num_classes=9)\n",
    "recall = Recall(task=\"multiclass\",num_classes=9)\n",
    "f1 = F1Score(task=\"multiclass\",num_classes=9)\n",
    "device=\"cuda\" if torch.cuda.is_available() else \"cpu\"\n",
    "precision.to(device)\n",
    "recall.to(device)\n",
    "f1.to(device)\n",
    "bertbilstm=BertBilstm().to(device)\n",
    "tokenizer = AutoTokenizer.from_pretrained(\"bert-base-chinese\")\n",
    "# net = AutoModel.from_pretrained(\"bert-base-chinese\")\n",
    "# net.to(device)\n",
    "optimizer= torch.optim.Adam(bertbilstm.parameters(),lr = 1e-5)\n",
    "loss_fn = nn.CrossEntropyLoss()\n",
    "metrics_dict = {\"precision\":precision,\n",
    "                \"recall\":precision,\n",
    "                \"f1\":precision}\n",
    "\n",
    "collate_fn=generate_collate_fn(tokenizer,label2index,device=device)\n",
    "dl_train=DataLoader(train_data[:3000],batch_size=10,collate_fn=collate_fn)\n",
    "dl_test=DataLoader(test_data[:1000],batch_size=10,collate_fn=collate_fn)"
   ]
  },
  {
   "cell_type": "code",
   "execution_count": 3,
   "metadata": {},
   "outputs": [
    {
     "data": {
      "text/plain": [
       "'\\nfor name,params in net.named_parameters():\\n    params.requires_grad=False\\n'"
      ]
     },
     "execution_count": 3,
     "metadata": {},
     "output_type": "execute_result"
    }
   ],
   "source": [
    "\"\"\"\n",
    "for name,params in net.named_parameters():\n",
    "    params.requires_grad=False\n",
    "\"\"\""
   ]
  },
  {
   "cell_type": "code",
   "execution_count": 5,
   "metadata": {},
   "outputs": [
    {
     "name": "stdout",
     "output_type": "stream",
     "text": [
      "\n",
      "================================================================================2023-06-19 20:53:32\n",
      "Epoch 1 / 1\n",
      "\n",
      "  1%|▏         | 4/300 [00:12<13:59,  2.84s/it, train_f1=0.0561, train_loss=2.21, train_precision=0.0561, train_recall=0.0561]"
     ]
    }
   ],
   "source": [
    "dfhistory = train_model(bertbilstm,\n",
    "    optimizer,\n",
    "    loss_fn,\n",
    "    metrics_dict,\n",
    "    train_data = dl_train,\n",
    "    val_data= dl_train,\n",
    "    epochs=1,\n",
    "    patience=5,\n",
    "    monitor=\"val_f1\", \n",
    "    mode=\"max\"\n",
    "    )"
   ]
  },
  {
   "cell_type": "code",
   "execution_count": null,
   "metadata": {},
   "outputs": [],
   "source": []
  },
  {
   "cell_type": "code",
   "execution_count": null,
   "metadata": {},
   "outputs": [],
   "source": []
  }
 ],
 "metadata": {
  "kernelspec": {
   "display_name": "torch",
   "language": "python",
   "name": "python3"
  },
  "language_info": {
   "codemirror_mode": {
    "name": "ipython",
    "version": 3
   },
   "file_extension": ".py",
   "mimetype": "text/x-python",
   "name": "python",
   "nbconvert_exporter": "python",
   "pygments_lexer": "ipython3",
   "version": "3.11.3"
  },
  "orig_nbformat": 4
 },
 "nbformat": 4,
 "nbformat_minor": 2
}
